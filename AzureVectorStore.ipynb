{
 "cells": [
  {
   "cell_type": "code",
   "execution_count": 11,
   "id": "338a36aa-e68d-4299-8a1a-a248e6db67d2",
   "metadata": {},
   "outputs": [
    {
     "name": "stdout",
     "output_type": "stream",
     "text": [
      "Note: you may need to restart the kernel to use updated packages.\n",
      "Note: you may need to restart the kernel to use updated packages.\n",
      "Note: you may need to restart the kernel to use updated packages.\n"
     ]
    }
   ],
   "source": [
    "%pip install --upgrade --quiet  azure-search-documents\n",
    "%pip install --upgrade --quiet  azure-identity\n",
    "%pip install --upgrade --quiet pypdf"
   ]
  },
  {
   "cell_type": "code",
   "execution_count": 14,
   "id": "df0300c0-1518-4b9f-ba06-76078bcc893c",
   "metadata": {},
   "outputs": [],
   "source": [
    "import os\n",
    "\n",
    "from langchain_community.vectorstores.azuresearch import AzureSearch\n",
    "from langchain_openai import AzureOpenAIEmbeddings, OpenAIEmbeddings\n",
    "from langchain_community.document_loaders import PyPDFLoader\n",
    "from langchain.text_splitter import RecursiveCharacterTextSplitter"
   ]
  },
  {
   "cell_type": "code",
   "execution_count": 8,
   "id": "c06885b6-fbfb-48f6-b9d9-71a89d634898",
   "metadata": {},
   "outputs": [
    {
     "data": {
      "text/plain": [
       "True"
      ]
     },
     "execution_count": 8,
     "metadata": {},
     "output_type": "execute_result"
    }
   ],
   "source": [
    "from dotenv import load_dotenv\n",
    "load_dotenv()"
   ]
  },
  {
   "cell_type": "code",
   "execution_count": 4,
   "id": "9bc3ccd8-69bd-4a84-8dec-daed2ae76601",
   "metadata": {},
   "outputs": [],
   "source": [
    "embeddings = AzureOpenAIEmbeddings(\n",
    "    model=\"text-embedding-ada-002\"\n",
    ")"
   ]
  },
  {
   "cell_type": "code",
   "execution_count": 10,
   "id": "887a081d-79b2-4243-a1d0-acf345522ead",
   "metadata": {},
   "outputs": [],
   "source": [
    "index_name: str = \"company-reports-analysis\"\n",
    "vector_store: AzureSearch = AzureSearch(\n",
    "    azure_search_endpoint=os.getenv('VECTOR_STORE_ADDRESS'),\n",
    "    azure_search_key=os.getenv('VECTOR_STORE_PASSWORD'),\n",
    "    index_name=index_name,\n",
    "    embedding_function=embeddings.embed_query,\n",
    "    additional_search_client_options={\"retry_total\": 4}\n",
    ")\n"
   ]
  },
  {
   "cell_type": "code",
   "execution_count": 16,
   "id": "75a25d36-d6fc-4d1b-99e8-a229fecde7c9",
   "metadata": {},
   "outputs": [
    {
     "data": {
      "text/plain": [
       "['ZWYyOTU4MjktZGFiMC00YjZmLTk0YjItMTk5NzMzM2Y3MmJk',\n",
       " 'NmExNDNjNjAtZjFhYi00YTM1LWIyZjYtNjUwMWM2NjIzNTli',\n",
       " 'ZGU2ZmFlMmMtOGQ3NC00MTIxLThlZTgtZTZmOTc1YTY2ZTE3',\n",
       " 'MDhhNGQ0YTMtNjM3OS00ZjQxLTg0ZjItODkyNTJiYjEzNjcz',\n",
       " 'MDUyYTgxZDUtM2MxZi00NmJkLTk1MzItMjQxMzU0YTJiN2Mw',\n",
       " 'MzUxMGRjYjUtYTBmYS00N2VlLWJmYWQtMDRlODlhZTM2ZGE1',\n",
       " 'YjY0MWIxNjEtOTBmYy00MGQzLThkMjEtMjgxNDUyMzM4NjFl',\n",
       " 'MDg4MmNhYWItZTYyMy00OGQyLTgyNDUtM2MxYmY0YWY4NzYx',\n",
       " 'ZWJhMWVhNzYtNjllOS00ZGQzLThhMjgtNmQyYjU0NGRhODNl',\n",
       " 'ODA0MWNjM2UtMWNkNi00NzYzLTljY2MtMGEyYzMzODVjNzY4',\n",
       " 'N2ViNTYyOTYtZWM3My00YzFmLWE0MzctNzRjY2EwZWY1ZTg0',\n",
       " 'M2MxMmZmYjUtMTM2ZC00NjYzLTlmNWEtNjBiODU2NTEwNzJj',\n",
       " 'NWY2MWJiNzUtYTk5OS00N2VhLTljYjMtODI5ODFlOTAyYWNl',\n",
       " 'ZDZmNDI3ZTktMmY5MC00OGQ0LWEzOWYtMmY5YmZkMThiNDNk',\n",
       " 'MWViZDc5YTQtZDk2Yy00NWE5LTkyYzktNjFkODRlNTFkOGVj',\n",
       " 'OGQ5MDgxZjMtZTkzYS00ZTM2LTkzM2UtMzBlYTk4OWQwNWIz',\n",
       " 'M2VjZTQ4ZWEtMzc0ZS00MjgwLWIyZjQtN2VlOWRlMmFkOGU2',\n",
       " 'NGVlYTZkZGMtMzE5NC00ZTM5LTg2ZjAtNjY2OGE3Nzg3ZmM2',\n",
       " 'NDBiYzBhZDQtY2E1My00ZGQ3LTkzMTItM2U3NThhNTZlZjVi',\n",
       " 'MTg1ZjZiYjgtYmU5ZS00MjMxLTliMmMtZTE5NjRjOTcxMjQ5',\n",
       " 'YTFiNjhmZGMtMWY0NS00ZThmLWFjZDAtM2RhNzBmMTdmM2E2',\n",
       " 'YzRjYmJmNGEtODNhZC00YzEyLWE5NjEtODkyNTI5MDAxZDdk',\n",
       " 'NjU5ZjkxZmEtZjg0ZC00ZWY0LTk4NDUtYWIwYTFjYTFiM2Nm',\n",
       " 'YzE0YzNiNmMtMTQ3My00OTY2LWEzNzItOTgwOTZkNmRiN2Vi',\n",
       " 'MTM4YTYzODYtZjE2Mi00NmM5LWE5NTQtNDJiZWI3MTk4NjY3',\n",
       " 'MzcxZDUzNGUtZGYyZC00MzM3LTg2ZGMtODFlOWRhYjE1ZDJj',\n",
       " 'YzExYjYyZTAtM2M1Yi00MTY0LWJiMzMtZGQwNmU4Mzc2YWVi',\n",
       " 'MTlhZmVhNjgtMjdjYS00YjM1LWIyMjYtNmNhOTlhNTcxNDU0',\n",
       " 'M2Q3ZjY3NjAtNDU1MC00OGFlLTkyNjgtMTcyNGRlOWM4ZTg3',\n",
       " 'OWFmMTIxZGMtZGZhOS00YzBmLThhOWQtMTRiMWFjYWU0ODA5',\n",
       " 'ZjE5ZDM1NGEtNWYxMS00OWZkLWIzOWEtNGFhMTM2YTAxMDVi',\n",
       " 'OWUyYzZlMjktZTM0Yi00NTg1LWJkM2ItOTg2ZjFhNmFkY2I4',\n",
       " 'NDVlNjlmMDYtNjMxNC00Njg1LTg0MTEtMDMyMjY4YWFhODcw',\n",
       " 'ZmFmYjkxNTAtYTI0Yy00MDI1LWEwZmItYWFjNDQwZWI3ODU5',\n",
       " 'ZjBiYjE2MjktMzEyNS00MDFiLTk2MzYtNDRjMWE1NGIxYzdh',\n",
       " 'ODNlYzdkNzAtY2EyZC00ZTQzLTlhNGQtZDQ0N2I5YjliZmNl',\n",
       " 'NTU4NzcwMjktMjk3My00Y2ZiLWIxNWMtYTFhOTQzYzg1Zjk0',\n",
       " 'NTQ2MzNmOTgtNjExOC00ZGY4LWI3MDctODgyNzg1ZTE2MjY4',\n",
       " 'N2JkMThhNTktNDliMy00YWVjLWEzZjUtM2M1NzZhZWFjYTQ4',\n",
       " 'NmYzNWEwODMtODFlZS00NGZmLTkxYTUtOGNjNTllOWU1ZDNh',\n",
       " 'YzA1OWYzYzItOTQ1NS00ZTU0LThiZDgtZjJkM2MwOGE4MWNj',\n",
       " 'N2NjZTBlZWYtMGNjYi00NGQxLTkwM2UtODZiZmFkNDdjZmU1',\n",
       " 'NTNhMWZiMDEtZTQyMC00MTk2LWE3YjUtNzk0YmQyY2ZjODUy',\n",
       " 'YjEyYmMwOTgtYTI3ZS00NTMyLWI0MmQtOTU2ZmFlZWU2OWNk',\n",
       " 'ZWFhYmYwYTAtYTJkMC00Y2MzLThkYmQtZWFkNDJjMDljNDZi',\n",
       " 'ZDVmZDg4YTktZDBkYS00OGY4LWI1MTktODRiY2FkODk3YmMz',\n",
       " 'NjNiYjJkMmEtNjEyZi00YjczLWIyZmQtM2FkNWI2OTcwZDA3',\n",
       " 'MzU3NGRjMGItZDBhNC00OThmLThiNjQtNWIyYjE0OGQ2MjU0',\n",
       " 'YzhjYWUzZDYtMWVlMC00MTFjLTliNjItYWNlOWIwMDA4NDEw',\n",
       " 'NTZkNzkzNjUtYWY0Zi00NzVjLThlZmUtM2RlOTJhYzQ5MGIx',\n",
       " 'Mjk0MTVjZDItOTFjMS00YjNkLTlkZmYtNmM0NmIyMTI5OGU4',\n",
       " 'NGRkMmZhMzUtMzgwOS00MTk0LTkyYWMtNWZjYjVmMmUwZGFl',\n",
       " 'M2ZiNWI3YzMtNjM1OS00OTkwLWE3ZDEtMjFiOTA4ZmUxYjFl',\n",
       " 'MmJmNDM5ZmItYWY4MC00NzYxLWJkNzUtODY1NjZkYmE3ZjE2',\n",
       " 'NDQzZjg4MjgtZmIxZC00M2Q5LThkOGItYTk4M2NhMmE1ODc5',\n",
       " 'Y2Q1MmIzZGItMzZiNy00YTQxLWE2ODktMmRmMDY0YmU3NGNj',\n",
       " 'NDI1ZTMwYzgtMjJlZS00ZDI0LThhYTMtYmIzYTgwNGQwZDc2',\n",
       " 'YzJmOTM1M2EtYTFjMC00NDJlLTkxZGQtMmUxNTlmZjRmNDI4',\n",
       " 'YWJiYzkyYTctNTI5MC00MjQzLTlmOWItYjJhMDVmM2M3NjE5',\n",
       " 'NjJkODMzNTUtNTZmMy00MGQ1LWJiNjYtOWYzOWUwOWIwYWIx',\n",
       " 'MTIyNmUxMjMtNDJmOC00ZmFjLWEyZmQtNTUxZjQ5NGNmNWMz',\n",
       " 'YWQxNjE3MjUtMGM0ZC00MWE4LTg4YzMtNGY5ZDNjNWFhNjlj',\n",
       " 'YjUzOWVjYWItYTM3Ni00OTIzLWE1YTgtMjM3NmFiMmRjZmE4']"
      ]
     },
     "execution_count": 16,
     "metadata": {},
     "output_type": "execute_result"
    }
   ],
   "source": [
    "pdf_files = [\n",
    "    \"AAPL_Report.pdf\",\n",
    "    \"GOOG_Report.pdf\",\n",
    "    \"MSFT_Report.pdf\",\n",
    "]\n",
    "\n",
    "# Load PDF documents\n",
    "docs = [PyPDFLoader(file).load() for file in pdf_files]\n",
    "docs_list = [page for pdf in docs for page in pdf]  # Flatten the list of pages\n",
    "\n",
    "# Split documents into chunks\n",
    "text_splitter = RecursiveCharacterTextSplitter.from_tiktoken_encoder(\n",
    "    chunk_size=500,\n",
    "    chunk_overlap=0\n",
    ")\n",
    "doc_splits = text_splitter.split_documents(docs_list)\n",
    "\n",
    "vector_store.add_documents(documents=doc_splits)"
   ]
  },
  {
   "cell_type": "code",
   "execution_count": 17,
   "id": "460feec9-beff-4f3a-8491-a8e3ccc5ca36",
   "metadata": {},
   "outputs": [
    {
     "name": "stdout",
     "output_type": "stream",
     "text": [
      "Liquidity analysis  Continued from Page 4\n",
      "is unusual among U.S. non-financial corporate issuers but Apple maintains substantial cash balances. At F3Q'23, Apple had $25.3 billion of cash and $1.1 billion \n",
      "in money market funds. We expect Apple to maintain strong balances of funds with same day access relative to commercial paper maturities. The principal uses \n",
      "of excess cash and liquidity are share repurchases. Apple spent $81 billion on share repurchases in the L TM F3Q '23 period. It had $7.2 billion of term debt and \n",
      "$38 billion of non-cancelable manufacturing purchase obligations due over the next 12 months.\n",
      "Profile\n",
      "Apple Inc. designs, manufactures and markets mobile communication and media devices and personal computers, and sells related software, accessories and \n",
      "third-party digital content and applications. Its fiscal year ends on the last Saturday of September.\n",
      "MOODY'S INVESTORS SERVICEMOODY'S INVESTORS SERVICE\n",
      "APPLE INC.  AAPL\n",
      "Page 5 NOVEMBER 10, 2024 Moody's Bond Report: APPLE INC.\n"
     ]
    }
   ],
   "source": [
    "docs = vector_store.similarity_search(\n",
    "    query=\"How well do you think AAPL manages its liquidity\",\n",
    "    k=3,\n",
    "    search_type=\"similarity\",\n",
    ")\n",
    "print(docs[0].page_content)"
   ]
  },
  {
   "cell_type": "code",
   "execution_count": 18,
   "id": "deabba2b-5620-4891-aab4-582394bba3e8",
   "metadata": {},
   "outputs": [
    {
     "name": "stdout",
     "output_type": "stream",
     "text": [
      "Liquidity analysis  Continued from Page 4\n",
      "is unusual among U.S. non-financial corporate issuers but Apple maintains substantial cash balances. At F3Q'23, Apple had $25.3 billion of cash and $1.1 billion \n",
      "in money market funds. We expect Apple to maintain strong balances of funds with same day access relative to commercial paper maturities. The principal uses \n",
      "of excess cash and liquidity are share repurchases. Apple spent $81 billion on share repurchases in the L TM F3Q '23 period. It had $7.2 billion of term debt and \n",
      "$38 billion of non-cancelable manufacturing purchase obligations due over the next 12 months.\n",
      "Profile\n",
      "Apple Inc. designs, manufactures and markets mobile communication and media devices and personal computers, and sells related software, accessories and \n",
      "third-party digital content and applications. Its fiscal year ends on the last Saturday of September.\n",
      "MOODY'S INVESTORS SERVICEMOODY'S INVESTORS SERVICE\n",
      "APPLE INC.  AAPL\n",
      "Page 5 NOVEMBER 10, 2024 Moody's Bond Report: APPLE INC.\n"
     ]
    }
   ],
   "source": [
    "# Perform a hybrid search using the search_type parameter\n",
    "docs = vector_store.similarity_search(\n",
    "    query=\"How well do you think AAPL manages its liquidity\",\n",
    "    k=3,\n",
    "    search_type=\"hybrid\",\n",
    ")\n",
    "print(docs[0].page_content)"
   ]
  },
  {
   "cell_type": "code",
   "execution_count": 19,
   "id": "3a6d26b0-c2cc-46a4-8e3d-b6e96ba4ad75",
   "metadata": {},
   "outputs": [
    {
     "name": "stdout",
     "output_type": "stream",
     "text": [
      "investments in AI infrastructure. \n",
      "The company had $242 billion of RPOs at quarter ended March '24, of which it expects to recognize approximately 45% into revenues in the next 12 months. \n",
      "This large revenue backlog provide very high visibility into its revenues and operating cash flow in the intermediate term. Microsoft has maintained shareholder \n",
      "returns (dividends and share repurchases) at about 75% of its pre-dividend free cash flow over time. We expect the company to maintain a highly conservative \n",
      "financial policy with a robust cash position, low financial leverage, and capital allocation largely consistent with operating cash flow generation. Commercial paper \n",
      "borrowings were $20.5 billion at F3Q '24 (down from $25.8 billion at F1Q '24), and we expect these borrowings to decline sharply over the next 12 to 18 months. \n",
      "Rapidly evolving technologies, strong competition, and regulatory challenges represent key business risks \n",
      "Microsoft's end markets are characterized by rapidly evolving technologies and strong competition as well as competing technologies. Evolving technologies \n",
      "expand addressable markets but they also pose risks from new products and competitors, shifting customer preferences, and the need for sustained levels of \n",
      "high investments. Microsoft has not always been the first-mover into new segments and may initially have a product offering inferior to that of the market leader \n",
      "with respect to technology , ease-of-use, or product functionality . However, it has demonstrated the ability to leverage its product development capabilities and the \n",
      "network effects afforded from its large user and application development communities to take market share over time. The company's strong operating \n",
      "performance in Azure cloud infrastructure services, Office 365, and Dynamics 365 business applications evidences this. Its productivity suite has evolved and \n",
      "expanded significantly to include collaborative products (SharePoint, T eams, OneDrive, security and compliance) that help the company to increase revenue per \n",
      "user and migrate more users to its premium cloud offerings. Under its current leadership, the acquisitions of LinkedIn, GitHub, Nuance, and Activision Blizzard \n",
      "have expanded Microsoft's network of users and bolstered its cloud ecosystem.\n",
      "MOODY'S INVESTORS SERVICEMOODY'S INVESTORS SERVICE\n",
      "MICROSOFT CORPORATION  MSFT\n"
     ]
    }
   ],
   "source": [
    "# Perform a hybrid search using the search_type parameter\n",
    "docs = vector_store.similarity_search(\n",
    "    query=\"How well do you think Microsoft is profitable\",\n",
    "    k=3,\n",
    "    search_type=\"hybrid\",\n",
    ")\n",
    "print(docs[0].page_content)"
   ]
  },
  {
   "cell_type": "code",
   "execution_count": null,
   "id": "7c980692-b624-4b5f-9a5b-4baef722f922",
   "metadata": {},
   "outputs": [],
   "source": []
  }
 ],
 "metadata": {
  "kernelspec": {
   "display_name": "Python 3 (ipykernel)",
   "language": "python",
   "name": "python3"
  },
  "language_info": {
   "codemirror_mode": {
    "name": "ipython",
    "version": 3
   },
   "file_extension": ".py",
   "mimetype": "text/x-python",
   "name": "python",
   "nbconvert_exporter": "python",
   "pygments_lexer": "ipython3",
   "version": "3.12.7"
  }
 },
 "nbformat": 4,
 "nbformat_minor": 5
}
