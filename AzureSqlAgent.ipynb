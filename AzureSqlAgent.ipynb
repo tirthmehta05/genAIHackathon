{
 "cells": [
  {
   "cell_type": "code",
   "execution_count": 2,
   "id": "0781db5c-b169-4685-bb6c-600dbfab06bb",
   "metadata": {},
   "outputs": [
    {
     "name": "stdout",
     "output_type": "stream",
     "text": [
      "Collecting pyodbc\n",
      "  Downloading pyodbc-5.2.0-cp312-cp312-macosx_11_0_arm64.whl.metadata (2.7 kB)\n",
      "Downloading pyodbc-5.2.0-cp312-cp312-macosx_11_0_arm64.whl (72 kB)\n",
      "Installing collected packages: pyodbc\n",
      "Successfully installed pyodbc-5.2.0\n"
     ]
    }
   ],
   "source": [
    "!pip install pyodbc"
   ]
  },
  {
   "cell_type": "code",
   "execution_count": 30,
   "id": "19fed2f9-33f9-4e67-949e-b9bcf7d34d60",
   "metadata": {},
   "outputs": [
    {
     "data": {
      "text/plain": [
       "True"
      ]
     },
     "execution_count": 30,
     "metadata": {},
     "output_type": "execute_result"
    }
   ],
   "source": [
    "import pyodbc\n",
    "import os\n",
    "from dotenv import load_dotenv\n",
    "from langchain.agents import create_sql_agent\n",
    "from langchain.agents.agent_types import AgentType\n",
    "from langchain.sql_database import SQLDatabase\n",
    "from langchain_community.agent_toolkits import SQLDatabaseToolkit\n",
    "from langchain_openai import AzureChatOpenAI\n",
    "import urllib\n",
    "load_dotenv()"
   ]
  },
  {
   "cell_type": "code",
   "execution_count": 54,
   "id": "30d32fe0-1b7e-4c38-94b6-3e75d584ef7a",
   "metadata": {},
   "outputs": [
    {
     "name": "stdout",
     "output_type": "stream",
     "text": [
      "mssql\n",
      "['clientData', 'esgData', 'instrumentData', 'marketData', 'traceData', 'tradeData']\n"
     ]
    },
    {
     "data": {
      "text/plain": [
       "\"[('2024-11-11 19:44:55',)]\""
      ]
     },
     "execution_count": 54,
     "metadata": {},
     "output_type": "execute_result"
    }
   ],
   "source": [
    "from sqlalchemy import create_engine\n",
    "\n",
    "# params = urllib.parse.quote_plus(\n",
    "#     'Driver=%s;' % os.environ['Driver'] +\n",
    "#     'Server=tcp:%s,1433;' % os.environ['Server'] +\n",
    "#     'Database=%s;' % os.environ['Database'] +\n",
    "#     'Uid=%s;' % os.environ['Uid'] +\n",
    "#     'Pwd={%s};' % os.environ['Pwd'] +\n",
    "#     'Encrypt=yes;' +\n",
    "#     'TrustServerCertificate=no;' +\n",
    "#     'Connection Timeout=30;')\n",
    "\n",
    "# conn_str = 'mssql+pyodbc:///?odbc_connect=' + params\n",
    "\n",
    "conn_str = \"mssql+pyodbc:///?odbc_connect=Driver={ODBC Driver 18 for SQL Server};Server=tcp:sqldatabaseolympus.database.windows.net,1433;Database=olympusDB;Uid=tirthmehta05;Pwd=XJOO2TVOtm@05_s;Encrypt=yes;TrustServerCertificate=no;Connection Timeout=30;\"\n",
    "\n",
    "db_engine = create_engine(conn_str)\n",
    "\n",
    "db = SQLDatabase(db_engine, view_support=True, schema=\"dbo\")\n",
    "\n",
    "# test the connection\n",
    "print(db.dialect)\n",
    "print(db.get_usable_table_names())\n",
    "db.run(\"select convert(varchar(25), getdate(), 120)\")"
   ]
  },
  {
   "cell_type": "code",
   "execution_count": 44,
   "id": "9fc03df8-da9a-48d7-86ae-249c0373ff1f",
   "metadata": {},
   "outputs": [],
   "source": [
    "llm = AzureChatOpenAI(\n",
    "    azure_deployment=\"gpt-35-turbo\",\n",
    "    api_version=\"2024-02-01\",\n",
    "    temperature=0\n",
    ")"
   ]
  },
  {
   "cell_type": "code",
   "execution_count": 51,
   "id": "01bbe68f-9c64-40b9-9430-e4ca73002234",
   "metadata": {},
   "outputs": [],
   "source": [
    "prefix = \"Provide the final answer as Final Answer:. If final answer can be reached return Final Answer: error\"\n",
    "toolkit = SQLDatabaseToolkit(db=db, llm=llm)\n",
    "\n",
    "agent_executor = create_sql_agent(\n",
    "    llm=llm,\n",
    "    toolkit=toolkit,\n",
    "    prefix=prefix,\n",
    "    verbose=True,\n",
    "    agent_type=AgentType.ZERO_SHOT_REACT_DESCRIPTION,\n",
    "    agent_executor_kwargs={\n",
    "        \"handle_parsing_errors\": True\n",
    "    }\n",
    ")"
   ]
  },
  {
   "cell_type": "code",
   "execution_count": 53,
   "id": "a0b8ab90-c475-4320-affe-ab18e1e923d1",
   "metadata": {},
   "outputs": [
    {
     "name": "stdout",
     "output_type": "stream",
     "text": [
      "\n",
      "\n",
      "\u001b[1m> Entering new SQL Agent Executor chain...\u001b[0m\n",
      "\u001b[32;1m\u001b[1;3mAction: sql_db_list_tables\n",
      "Action Input: \"\"\u001b[0m\u001b[38;5;200m\u001b[1;3mclientData, esgData, instrumentData, marketData, traceData, tradeData\u001b[0m\u001b[32;1m\u001b[1;3mI don't see any tables related to cricket, so I should check with the database administrator or data owner to see if there is a table I can query.\n",
      "Action: N/A\u001b[0mInvalid Format: Missing 'Action Input:' after 'Action:'\u001b[32;1m\u001b[1;3mI should double check if my query is correct before asking the database administrator or data owner.\n",
      "Action: sql_db_query_checker\n",
      "Action Input: \"SELECT * FROM cricket_scores ORDER BY score DESC LIMIT 1\"\u001b[0m\u001b[36;1m\u001b[1;3mSELECT * FROM cricket_scores ORDER BY score DESC LIMIT 1\u001b[0m\u001b[32;1m\u001b[1;3mI should check if the cricket_scores table exists in the database.\n",
      "Action: sql_db_list_tables\n",
      "Action Input: \"\"\u001b[0m\u001b[38;5;200m\u001b[1;3mclientData, esgData, instrumentData, marketData, traceData, tradeData\u001b[0m\u001b[32;1m\u001b[1;3mI need to use sql_db_schema to see if there is a table related to cricket_scores.\n",
      "Action: sql_db_schema\n",
      "Action Input: cricket_scores\u001b[0m\u001b[33;1m\u001b[1;3mError: table_names {'cricket_scores'} not found in database\u001b[0m\u001b[32;1m\u001b[1;3mI need to ask the database administrator or data owner if there is a table related to cricket_scores that I can query.\n",
      "Action: N/A\u001b[0mInvalid Format: Missing 'Action Input:' after 'Action:'\u001b[32;1m\u001b[1;3mI cannot provide a final answer as there is no table related to cricket_scores in the database.\u001b[0mInvalid Format: Missing 'Action:' after 'Thought:\u001b[32;1m\u001b[1;3mI cannot provide a final answer as there is no table related to cricket_scores in the database.\n",
      "Final Answer: Final Answer: error\u001b[0m\n",
      "\n",
      "\u001b[1m> Finished chain.\u001b[0m\n"
     ]
    },
    {
     "data": {
      "text/plain": [
       "{'input': 'Who score the highest in cricket', 'output': 'error'}"
      ]
     },
     "execution_count": 53,
     "metadata": {},
     "output_type": "execute_result"
    }
   ],
   "source": [
    "agent_executor.invoke(\"What is the ESG score for AAPL\")"
   ]
  },
  {
   "cell_type": "code",
   "execution_count": null,
   "id": "7bd66212-20c6-4e72-adad-777e4206a5b1",
   "metadata": {},
   "outputs": [],
   "source": []
  }
 ],
 "metadata": {
  "kernelspec": {
   "display_name": "Python 3 (ipykernel)",
   "language": "python",
   "name": "python3"
  },
  "language_info": {
   "codemirror_mode": {
    "name": "ipython",
    "version": 3
   },
   "file_extension": ".py",
   "mimetype": "text/x-python",
   "name": "python",
   "nbconvert_exporter": "python",
   "pygments_lexer": "ipython3",
   "version": "3.12.7"
  }
 },
 "nbformat": 4,
 "nbformat_minor": 5
}
