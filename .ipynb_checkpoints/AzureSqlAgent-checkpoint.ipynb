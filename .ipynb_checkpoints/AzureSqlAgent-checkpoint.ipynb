{
 "cells": [
  {
   "cell_type": "code",
   "execution_count": 2,
   "id": "0781db5c-b169-4685-bb6c-600dbfab06bb",
   "metadata": {},
   "outputs": [
    {
     "name": "stdout",
     "output_type": "stream",
     "text": [
      "Collecting pyodbc\n",
      "  Downloading pyodbc-5.2.0-cp312-cp312-macosx_11_0_arm64.whl.metadata (2.7 kB)\n",
      "Downloading pyodbc-5.2.0-cp312-cp312-macosx_11_0_arm64.whl (72 kB)\n",
      "Installing collected packages: pyodbc\n",
      "Successfully installed pyodbc-5.2.0\n"
     ]
    }
   ],
   "source": [
    "!pip install pyodbc"
   ]
  },
  {
   "cell_type": "code",
   "execution_count": 9,
   "id": "19fed2f9-33f9-4e67-949e-b9bcf7d34d60",
   "metadata": {},
   "outputs": [
    {
     "data": {
      "text/plain": [
       "True"
      ]
     },
     "execution_count": 9,
     "metadata": {},
     "output_type": "execute_result"
    }
   ],
   "source": [
    "import pyodbc\n",
    "import os\n",
    "from dotenv import load_dotenv\n",
    "from langchain.agents import create_sql_agent\n",
    "from langchain.agents.agent_types import AgentType\n",
    "from langchain.sql_database import SQLDatabase\n",
    "from langchain_community.agent_toolkits import SQLDatabaseToolkit\n",
    "from langchain_openai import AzureOpenAI\n",
    "import urllib\n",
    "load_dotenv()"
   ]
  },
  {
   "cell_type": "code",
   "execution_count": 27,
   "id": "30d32fe0-1b7e-4c38-94b6-3e75d584ef7a",
   "metadata": {},
   "outputs": [
    {
     "name": "stdout",
     "output_type": "stream",
     "text": [
      "mssql\n",
      "['clientData', 'esgData', 'instrumentData', 'marketData', 'traceData', 'tradeData']\n"
     ]
    },
    {
     "data": {
      "text/plain": [
       "\"[('2024-11-11 01:58:24',)]\""
      ]
     },
     "execution_count": 27,
     "metadata": {},
     "output_type": "execute_result"
    }
   ],
   "source": [
    "from sqlalchemy import create_engine\n",
    "\n",
    "# params = urllib.parse.quote_plus(\n",
    "#     'Driver=%s;' % os.environ['Driver'] +\n",
    "#     'Server=tcp:%s,1433;' % os.environ['Server'] +\n",
    "#     'Database=%s;' % os.environ['Database'] +\n",
    "#     'Uid=%s;' % os.environ['Uid'] +\n",
    "#     'Pwd={%s};' % os.environ['Pwd'] +\n",
    "#     'Encrypt=yes;' +\n",
    "#     'TrustServerCertificate=no;' +\n",
    "#     'Connection Timeout=30;')\n",
    "\n",
    "# conn_str = 'mssql+pyodbc:///?odbc_connect=' + params\n",
    "\n",
    "conn_str = 'mssql+pyodbc:///?odbc_connect=Driver={ODBC Driver 18 for SQL Server};Server=tcp:sqldatabaseolympus.database.windows.net,1433;Database=olympusDB;Uid=tirthmehta05;Pwd=XJOO2TVOtm@05_s;Encrypt=yes;TrustServerCertificate=no;Connection Timeout=30;'\n",
    "\n",
    "db_engine = create_engine(conn_str)\n",
    "\n",
    "db = SQLDatabase(db_engine, view_support=True, schema=\"dbo\")\n",
    "\n",
    "# test the connection\n",
    "print(db.dialect)\n",
    "print(db.get_usable_table_names())\n",
    "db.run(\"select convert(varchar(25), getdate(), 120)\")"
   ]
  },
  {
   "cell_type": "code",
   "execution_count": 20,
   "id": "69b3c3c7-e15c-4d66-89f6-5f416d186c08",
   "metadata": {},
   "outputs": [],
   "source": [
    "params = urllib.parse.quote_plus(r'Driver={ODBC Driver 18 for SQL Server};Server=tcp:sqldatabaseolympus.database.windows.net,1433;Database=olympusDB;Uid=tirthmehta5;Pwd=XJOO2TVOtm@05_s;Encrypt=yes;TrustServerCertificate=no;Connection Timeout=30;')\n",
    "conn_str = 'mssql+pyodbc:///?odbc_connect={}'.format(params)"
   ]
  }
 ],
 "metadata": {
  "kernelspec": {
   "display_name": "Python 3 (ipykernel)",
   "language": "python",
   "name": "python3"
  },
  "language_info": {
   "codemirror_mode": {
    "name": "ipython",
    "version": 3
   },
   "file_extension": ".py",
   "mimetype": "text/x-python",
   "name": "python",
   "nbconvert_exporter": "python",
   "pygments_lexer": "ipython3",
   "version": "3.12.7"
  }
 },
 "nbformat": 4,
 "nbformat_minor": 5
}
